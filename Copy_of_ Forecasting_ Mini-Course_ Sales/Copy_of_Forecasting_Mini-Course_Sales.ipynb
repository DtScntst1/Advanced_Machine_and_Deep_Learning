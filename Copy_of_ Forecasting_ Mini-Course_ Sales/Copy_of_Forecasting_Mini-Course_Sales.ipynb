{
 "cells": [
  {
   "cell_type": "code",
   "execution_count": 1,
   "id": "bca775d5",
   "metadata": {
    "_cell_guid": "b1076dfc-b9ad-4769-8c92-a6c4dae69d19",
    "_uuid": "8f2839f25d086af736a60e9eeb907d3b93b6e0e5",
    "execution": {
     "iopub.execute_input": "2024-04-08T07:22:01.807913Z",
     "iopub.status.busy": "2024-04-08T07:22:01.807480Z",
     "iopub.status.idle": "2024-04-08T07:22:02.796060Z",
     "shell.execute_reply": "2024-04-08T07:22:02.793672Z"
    },
    "papermill": {
     "duration": 0.999162,
     "end_time": "2024-04-08T07:22:02.798488",
     "exception": false,
     "start_time": "2024-04-08T07:22:01.799326",
     "status": "completed"
    },
    "tags": []
   },
   "outputs": [
    {
     "name": "stdout",
     "output_type": "stream",
     "text": [
      "/kaggle/input/copy-of-forecasting-mini-course-sales/sample_submission.csv\n",
      "/kaggle/input/copy-of-forecasting-mini-course-sales/train.csv\n",
      "/kaggle/input/copy-of-forecasting-mini-course-sales/test.csv\n"
     ]
    }
   ],
   "source": [
    "# This Python 3 environment comes with many helpful analytics libraries installed\n",
    "# It is defined by the kaggle/python Docker image: https://github.com/kaggle/docker-python\n",
    "# For example, here's several helpful packages to load\n",
    "\n",
    "import numpy as np # linear algebra\n",
    "import pandas as pd # data processing, CSV file I/O (e.g. pd.read_csv)\n",
    "\n",
    "# Input data files are available in the read-only \"../input/\" directory\n",
    "# For example, running this (by clicking run or pressing Shift+Enter) will list all files under the input directory\n",
    "\n",
    "import os\n",
    "for dirname, _, filenames in os.walk('/kaggle/input'):\n",
    "    for filename in filenames:\n",
    "        print(os.path.join(dirname, filename))\n",
    "\n",
    "# You can write up to 20GB to the current directory (/kaggle/working/) that gets preserved as output when you create a version using \"Save & Run All\" \n",
    "# You can also write temporary files to /kaggle/temp/, but they won't be saved outside of the current session"
   ]
  },
  {
   "cell_type": "code",
   "execution_count": 2,
   "id": "89869f7c",
   "metadata": {
    "execution": {
     "iopub.execute_input": "2024-04-08T07:22:02.813000Z",
     "iopub.status.busy": "2024-04-08T07:22:02.812089Z",
     "iopub.status.idle": "2024-04-08T07:22:03.104319Z",
     "shell.execute_reply": "2024-04-08T07:22:03.103146Z"
    },
    "papermill": {
     "duration": 0.302876,
     "end_time": "2024-04-08T07:22:03.107477",
     "exception": false,
     "start_time": "2024-04-08T07:22:02.804601",
     "status": "completed"
    },
    "tags": []
   },
   "outputs": [
    {
     "data": {
      "text/html": [
       "<div>\n",
       "<style scoped>\n",
       "    .dataframe tbody tr th:only-of-type {\n",
       "        vertical-align: middle;\n",
       "    }\n",
       "\n",
       "    .dataframe tbody tr th {\n",
       "        vertical-align: top;\n",
       "    }\n",
       "\n",
       "    .dataframe thead th {\n",
       "        text-align: right;\n",
       "    }\n",
       "</style>\n",
       "<table border=\"1\" class=\"dataframe\">\n",
       "  <thead>\n",
       "    <tr style=\"text-align: right;\">\n",
       "      <th></th>\n",
       "      <th>id</th>\n",
       "      <th>country</th>\n",
       "      <th>store</th>\n",
       "      <th>product</th>\n",
       "      <th>num_sold</th>\n",
       "    </tr>\n",
       "    <tr>\n",
       "      <th>date</th>\n",
       "      <th></th>\n",
       "      <th></th>\n",
       "      <th></th>\n",
       "      <th></th>\n",
       "      <th></th>\n",
       "    </tr>\n",
       "  </thead>\n",
       "  <tbody>\n",
       "    <tr>\n",
       "      <th>2017-01-01</th>\n",
       "      <td>0</td>\n",
       "      <td>Argentina</td>\n",
       "      <td>Kaggle Learn</td>\n",
       "      <td>Using LLMs to Improve Your Coding</td>\n",
       "      <td>63</td>\n",
       "    </tr>\n",
       "    <tr>\n",
       "      <th>2017-01-01</th>\n",
       "      <td>1</td>\n",
       "      <td>Argentina</td>\n",
       "      <td>Kaggle Learn</td>\n",
       "      <td>Using LLMs to Train More LLMs</td>\n",
       "      <td>66</td>\n",
       "    </tr>\n",
       "    <tr>\n",
       "      <th>2017-01-01</th>\n",
       "      <td>2</td>\n",
       "      <td>Argentina</td>\n",
       "      <td>Kaggle Learn</td>\n",
       "      <td>Using LLMs to Win Friends and Influence People</td>\n",
       "      <td>9</td>\n",
       "    </tr>\n",
       "    <tr>\n",
       "      <th>2017-01-01</th>\n",
       "      <td>3</td>\n",
       "      <td>Argentina</td>\n",
       "      <td>Kaggle Learn</td>\n",
       "      <td>Using LLMs to Win More Kaggle Competitions</td>\n",
       "      <td>59</td>\n",
       "    </tr>\n",
       "    <tr>\n",
       "      <th>2017-01-01</th>\n",
       "      <td>4</td>\n",
       "      <td>Argentina</td>\n",
       "      <td>Kaggle Learn</td>\n",
       "      <td>Using LLMs to Write Better</td>\n",
       "      <td>49</td>\n",
       "    </tr>\n",
       "    <tr>\n",
       "      <th>...</th>\n",
       "      <td>...</td>\n",
       "      <td>...</td>\n",
       "      <td>...</td>\n",
       "      <td>...</td>\n",
       "      <td>...</td>\n",
       "    </tr>\n",
       "    <tr>\n",
       "      <th>2021-12-31</th>\n",
       "      <td>136945</td>\n",
       "      <td>Spain</td>\n",
       "      <td>Kagglazon</td>\n",
       "      <td>Using LLMs to Improve Your Coding</td>\n",
       "      <td>700</td>\n",
       "    </tr>\n",
       "    <tr>\n",
       "      <th>2021-12-31</th>\n",
       "      <td>136946</td>\n",
       "      <td>Spain</td>\n",
       "      <td>Kagglazon</td>\n",
       "      <td>Using LLMs to Train More LLMs</td>\n",
       "      <td>752</td>\n",
       "    </tr>\n",
       "    <tr>\n",
       "      <th>2021-12-31</th>\n",
       "      <td>136947</td>\n",
       "      <td>Spain</td>\n",
       "      <td>Kagglazon</td>\n",
       "      <td>Using LLMs to Win Friends and Influence People</td>\n",
       "      <td>111</td>\n",
       "    </tr>\n",
       "    <tr>\n",
       "      <th>2021-12-31</th>\n",
       "      <td>136948</td>\n",
       "      <td>Spain</td>\n",
       "      <td>Kagglazon</td>\n",
       "      <td>Using LLMs to Win More Kaggle Competitions</td>\n",
       "      <td>641</td>\n",
       "    </tr>\n",
       "    <tr>\n",
       "      <th>2021-12-31</th>\n",
       "      <td>136949</td>\n",
       "      <td>Spain</td>\n",
       "      <td>Kagglazon</td>\n",
       "      <td>Using LLMs to Write Better</td>\n",
       "      <td>539</td>\n",
       "    </tr>\n",
       "  </tbody>\n",
       "</table>\n",
       "<p>136950 rows × 5 columns</p>\n",
       "</div>"
      ],
      "text/plain": [
       "                id    country         store  \\\n",
       "date                                          \n",
       "2017-01-01       0  Argentina  Kaggle Learn   \n",
       "2017-01-01       1  Argentina  Kaggle Learn   \n",
       "2017-01-01       2  Argentina  Kaggle Learn   \n",
       "2017-01-01       3  Argentina  Kaggle Learn   \n",
       "2017-01-01       4  Argentina  Kaggle Learn   \n",
       "...            ...        ...           ...   \n",
       "2021-12-31  136945      Spain     Kagglazon   \n",
       "2021-12-31  136946      Spain     Kagglazon   \n",
       "2021-12-31  136947      Spain     Kagglazon   \n",
       "2021-12-31  136948      Spain     Kagglazon   \n",
       "2021-12-31  136949      Spain     Kagglazon   \n",
       "\n",
       "                                                   product  num_sold  \n",
       "date                                                                  \n",
       "2017-01-01               Using LLMs to Improve Your Coding        63  \n",
       "2017-01-01                   Using LLMs to Train More LLMs        66  \n",
       "2017-01-01  Using LLMs to Win Friends and Influence People         9  \n",
       "2017-01-01      Using LLMs to Win More Kaggle Competitions        59  \n",
       "2017-01-01                      Using LLMs to Write Better        49  \n",
       "...                                                    ...       ...  \n",
       "2021-12-31               Using LLMs to Improve Your Coding       700  \n",
       "2021-12-31                   Using LLMs to Train More LLMs       752  \n",
       "2021-12-31  Using LLMs to Win Friends and Influence People       111  \n",
       "2021-12-31      Using LLMs to Win More Kaggle Competitions       641  \n",
       "2021-12-31                      Using LLMs to Write Better       539  \n",
       "\n",
       "[136950 rows x 5 columns]"
      ]
     },
     "execution_count": 2,
     "metadata": {},
     "output_type": "execute_result"
    }
   ],
   "source": [
    "import pandas as pd\n",
    "train = pd.read_csv(\"/kaggle/input/copy-of-forecasting-mini-course-sales/train.csv\", parse_dates=[\"date\"],index_col=\"date\")\n",
    "train"
   ]
  },
  {
   "cell_type": "code",
   "execution_count": 3,
   "id": "4bb2a66e",
   "metadata": {
    "execution": {
     "iopub.execute_input": "2024-04-08T07:22:03.122613Z",
     "iopub.status.busy": "2024-04-08T07:22:03.122168Z",
     "iopub.status.idle": "2024-04-08T07:22:03.190606Z",
     "shell.execute_reply": "2024-04-08T07:22:03.189579Z"
    },
    "papermill": {
     "duration": 0.07881,
     "end_time": "2024-04-08T07:22:03.193168",
     "exception": false,
     "start_time": "2024-04-08T07:22:03.114358",
     "status": "completed"
    },
    "tags": []
   },
   "outputs": [
    {
     "data": {
      "text/html": [
       "<div>\n",
       "<style scoped>\n",
       "    .dataframe tbody tr th:only-of-type {\n",
       "        vertical-align: middle;\n",
       "    }\n",
       "\n",
       "    .dataframe tbody tr th {\n",
       "        vertical-align: top;\n",
       "    }\n",
       "\n",
       "    .dataframe thead th {\n",
       "        text-align: right;\n",
       "    }\n",
       "</style>\n",
       "<table border=\"1\" class=\"dataframe\">\n",
       "  <thead>\n",
       "    <tr style=\"text-align: right;\">\n",
       "      <th></th>\n",
       "      <th>id</th>\n",
       "      <th>country</th>\n",
       "      <th>store</th>\n",
       "      <th>product</th>\n",
       "    </tr>\n",
       "    <tr>\n",
       "      <th>date</th>\n",
       "      <th></th>\n",
       "      <th></th>\n",
       "      <th></th>\n",
       "      <th></th>\n",
       "    </tr>\n",
       "  </thead>\n",
       "  <tbody>\n",
       "    <tr>\n",
       "      <th>2022-01-01</th>\n",
       "      <td>136950</td>\n",
       "      <td>Argentina</td>\n",
       "      <td>Kaggle Learn</td>\n",
       "      <td>Using LLMs to Improve Your Coding</td>\n",
       "    </tr>\n",
       "    <tr>\n",
       "      <th>2022-01-01</th>\n",
       "      <td>136951</td>\n",
       "      <td>Argentina</td>\n",
       "      <td>Kaggle Learn</td>\n",
       "      <td>Using LLMs to Train More LLMs</td>\n",
       "    </tr>\n",
       "    <tr>\n",
       "      <th>2022-01-01</th>\n",
       "      <td>136952</td>\n",
       "      <td>Argentina</td>\n",
       "      <td>Kaggle Learn</td>\n",
       "      <td>Using LLMs to Win Friends and Influence People</td>\n",
       "    </tr>\n",
       "    <tr>\n",
       "      <th>2022-01-01</th>\n",
       "      <td>136953</td>\n",
       "      <td>Argentina</td>\n",
       "      <td>Kaggle Learn</td>\n",
       "      <td>Using LLMs to Win More Kaggle Competitions</td>\n",
       "    </tr>\n",
       "    <tr>\n",
       "      <th>2022-01-01</th>\n",
       "      <td>136954</td>\n",
       "      <td>Argentina</td>\n",
       "      <td>Kaggle Learn</td>\n",
       "      <td>Using LLMs to Write Better</td>\n",
       "    </tr>\n",
       "    <tr>\n",
       "      <th>...</th>\n",
       "      <td>...</td>\n",
       "      <td>...</td>\n",
       "      <td>...</td>\n",
       "      <td>...</td>\n",
       "    </tr>\n",
       "    <tr>\n",
       "      <th>2022-12-31</th>\n",
       "      <td>164320</td>\n",
       "      <td>Spain</td>\n",
       "      <td>Kagglazon</td>\n",
       "      <td>Using LLMs to Improve Your Coding</td>\n",
       "    </tr>\n",
       "    <tr>\n",
       "      <th>2022-12-31</th>\n",
       "      <td>164321</td>\n",
       "      <td>Spain</td>\n",
       "      <td>Kagglazon</td>\n",
       "      <td>Using LLMs to Train More LLMs</td>\n",
       "    </tr>\n",
       "    <tr>\n",
       "      <th>2022-12-31</th>\n",
       "      <td>164322</td>\n",
       "      <td>Spain</td>\n",
       "      <td>Kagglazon</td>\n",
       "      <td>Using LLMs to Win Friends and Influence People</td>\n",
       "    </tr>\n",
       "    <tr>\n",
       "      <th>2022-12-31</th>\n",
       "      <td>164323</td>\n",
       "      <td>Spain</td>\n",
       "      <td>Kagglazon</td>\n",
       "      <td>Using LLMs to Win More Kaggle Competitions</td>\n",
       "    </tr>\n",
       "    <tr>\n",
       "      <th>2022-12-31</th>\n",
       "      <td>164324</td>\n",
       "      <td>Spain</td>\n",
       "      <td>Kagglazon</td>\n",
       "      <td>Using LLMs to Write Better</td>\n",
       "    </tr>\n",
       "  </tbody>\n",
       "</table>\n",
       "<p>27375 rows × 4 columns</p>\n",
       "</div>"
      ],
      "text/plain": [
       "                id    country         store  \\\n",
       "date                                          \n",
       "2022-01-01  136950  Argentina  Kaggle Learn   \n",
       "2022-01-01  136951  Argentina  Kaggle Learn   \n",
       "2022-01-01  136952  Argentina  Kaggle Learn   \n",
       "2022-01-01  136953  Argentina  Kaggle Learn   \n",
       "2022-01-01  136954  Argentina  Kaggle Learn   \n",
       "...            ...        ...           ...   \n",
       "2022-12-31  164320      Spain     Kagglazon   \n",
       "2022-12-31  164321      Spain     Kagglazon   \n",
       "2022-12-31  164322      Spain     Kagglazon   \n",
       "2022-12-31  164323      Spain     Kagglazon   \n",
       "2022-12-31  164324      Spain     Kagglazon   \n",
       "\n",
       "                                                   product  \n",
       "date                                                        \n",
       "2022-01-01               Using LLMs to Improve Your Coding  \n",
       "2022-01-01                   Using LLMs to Train More LLMs  \n",
       "2022-01-01  Using LLMs to Win Friends and Influence People  \n",
       "2022-01-01      Using LLMs to Win More Kaggle Competitions  \n",
       "2022-01-01                      Using LLMs to Write Better  \n",
       "...                                                    ...  \n",
       "2022-12-31               Using LLMs to Improve Your Coding  \n",
       "2022-12-31                   Using LLMs to Train More LLMs  \n",
       "2022-12-31  Using LLMs to Win Friends and Influence People  \n",
       "2022-12-31      Using LLMs to Win More Kaggle Competitions  \n",
       "2022-12-31                      Using LLMs to Write Better  \n",
       "\n",
       "[27375 rows x 4 columns]"
      ]
     },
     "execution_count": 3,
     "metadata": {},
     "output_type": "execute_result"
    }
   ],
   "source": [
    "import pandas as pd\n",
    "test = pd.read_csv(\"/kaggle/input/copy-of-forecasting-mini-course-sales/test.csv\", parse_dates=[\"date\"],index_col=\"date\")\n",
    "test"
   ]
  },
  {
   "cell_type": "code",
   "execution_count": 4,
   "id": "6f0da4e9",
   "metadata": {
    "execution": {
     "iopub.execute_input": "2024-04-08T07:22:03.209486Z",
     "iopub.status.busy": "2024-04-08T07:22:03.208394Z",
     "iopub.status.idle": "2024-04-08T07:22:03.218588Z",
     "shell.execute_reply": "2024-04-08T07:22:03.217113Z"
    },
    "papermill": {
     "duration": 0.021108,
     "end_time": "2024-04-08T07:22:03.221206",
     "exception": false,
     "start_time": "2024-04-08T07:22:03.200098",
     "status": "completed"
    },
    "tags": []
   },
   "outputs": [],
   "source": [
    "# Train ve test veri setlerini birleştirme\n",
    "birlesik_veri = pd.concat([train, test], ignore_index=True)"
   ]
  },
  {
   "cell_type": "code",
   "execution_count": 5,
   "id": "4c1d8557",
   "metadata": {
    "execution": {
     "iopub.execute_input": "2024-04-08T07:22:03.237363Z",
     "iopub.status.busy": "2024-04-08T07:22:03.236005Z",
     "iopub.status.idle": "2024-04-08T07:22:04.696935Z",
     "shell.execute_reply": "2024-04-08T07:22:04.695565Z"
    },
    "papermill": {
     "duration": 1.471893,
     "end_time": "2024-04-08T07:22:04.699808",
     "exception": false,
     "start_time": "2024-04-08T07:22:03.227915",
     "status": "completed"
    },
    "tags": []
   },
   "outputs": [],
   "source": [
    "from sklearn.preprocessing import LabelEncoder\n",
    "\n",
    "# LabelEncoder nesnesi oluşturma\n",
    "le = LabelEncoder()\n",
    "\n",
    "# 'country', 'store' ve 'product' sütunlarına label encoding uygulama\n",
    "birlesik_veri['country'] = le.fit_transform(birlesik_veri['country'])\n",
    "birlesik_veri['store'] = le.fit_transform(birlesik_veri['store'])\n",
    "birlesik_veri['product'] = le.fit_transform(birlesik_veri['product'])"
   ]
  },
  {
   "cell_type": "code",
   "execution_count": 6,
   "id": "2c4bcefd",
   "metadata": {
    "execution": {
     "iopub.execute_input": "2024-04-08T07:22:04.715472Z",
     "iopub.status.busy": "2024-04-08T07:22:04.715059Z",
     "iopub.status.idle": "2024-04-08T07:22:04.731940Z",
     "shell.execute_reply": "2024-04-08T07:22:04.730697Z"
    },
    "papermill": {
     "duration": 0.027456,
     "end_time": "2024-04-08T07:22:04.734331",
     "exception": false,
     "start_time": "2024-04-08T07:22:04.706875",
     "status": "completed"
    },
    "tags": []
   },
   "outputs": [
    {
     "name": "stdout",
     "output_type": "stream",
     "text": [
      "Train Verisi:\n",
      "            id  country  store  product  num_sold\n",
      "0            0        0      1        0      63.0\n",
      "1            1        0      1        1      66.0\n",
      "2            2        0      1        2       9.0\n",
      "3            3        0      1        3      59.0\n",
      "4            4        0      1        4      49.0\n",
      "...        ...      ...    ...      ...       ...\n",
      "136945  136945        4      0        0     700.0\n",
      "136946  136946        4      0        1     752.0\n",
      "136947  136947        4      0        2     111.0\n",
      "136948  136948        4      0        3     641.0\n",
      "136949  136949        4      0        4     539.0\n",
      "\n",
      "[136950 rows x 5 columns]\n",
      "\n",
      "Test Verisi:\n",
      "            id  country  store  product  num_sold\n",
      "136950  136950        0      1        0       NaN\n",
      "136951  136951        0      1        1       NaN\n",
      "136952  136952        0      1        2       NaN\n",
      "136953  136953        0      1        3       NaN\n",
      "136954  136954        0      1        4       NaN\n",
      "...        ...      ...    ...      ...       ...\n",
      "164320  164320        4      0        0       NaN\n",
      "164321  164321        4      0        1       NaN\n",
      "164322  164322        4      0        2       NaN\n",
      "164323  164323        4      0        3       NaN\n",
      "164324  164324        4      0        4       NaN\n",
      "\n",
      "[27375 rows x 5 columns]\n"
     ]
    }
   ],
   "source": [
    "# Birleştirilmiş veriyi tekrar train ve test olarak ayırma\n",
    "train_index = train.shape[0]\n",
    "train = birlesik_veri[:train_index]\n",
    "test = birlesik_veri[train_index:]\n",
    "\n",
    "# Sonuçları gösterme\n",
    "print(\"Train Verisi:\")\n",
    "print(train)\n",
    "print(\"\\nTest Verisi:\")\n",
    "print(test)"
   ]
  },
  {
   "cell_type": "code",
   "execution_count": 7,
   "id": "fea9ff73",
   "metadata": {
    "execution": {
     "iopub.execute_input": "2024-04-08T07:22:04.749694Z",
     "iopub.status.busy": "2024-04-08T07:22:04.749038Z",
     "iopub.status.idle": "2024-04-08T07:22:04.755262Z",
     "shell.execute_reply": "2024-04-08T07:22:04.754332Z"
    },
    "papermill": {
     "duration": 0.016606,
     "end_time": "2024-04-08T07:22:04.757618",
     "exception": false,
     "start_time": "2024-04-08T07:22:04.741012",
     "status": "completed"
    },
    "tags": []
   },
   "outputs": [],
   "source": [
    "# test adlı bir veri çerçevesinden 'num_sold' sütununu çıkarma\n",
    "test = test.drop(['num_sold'], axis=1)"
   ]
  },
  {
   "cell_type": "code",
   "execution_count": 8,
   "id": "3aadb6d5",
   "metadata": {
    "execution": {
     "iopub.execute_input": "2024-04-08T07:22:04.773896Z",
     "iopub.status.busy": "2024-04-08T07:22:04.773211Z",
     "iopub.status.idle": "2024-04-08T07:22:04.786868Z",
     "shell.execute_reply": "2024-04-08T07:22:04.785065Z"
    },
    "papermill": {
     "duration": 0.024679,
     "end_time": "2024-04-08T07:22:04.789359",
     "exception": false,
     "start_time": "2024-04-08T07:22:04.764680",
     "status": "completed"
    },
    "tags": []
   },
   "outputs": [
    {
     "data": {
      "text/html": [
       "<div>\n",
       "<style scoped>\n",
       "    .dataframe tbody tr th:only-of-type {\n",
       "        vertical-align: middle;\n",
       "    }\n",
       "\n",
       "    .dataframe tbody tr th {\n",
       "        vertical-align: top;\n",
       "    }\n",
       "\n",
       "    .dataframe thead th {\n",
       "        text-align: right;\n",
       "    }\n",
       "</style>\n",
       "<table border=\"1\" class=\"dataframe\">\n",
       "  <thead>\n",
       "    <tr style=\"text-align: right;\">\n",
       "      <th></th>\n",
       "      <th>id</th>\n",
       "      <th>country</th>\n",
       "      <th>store</th>\n",
       "      <th>product</th>\n",
       "      <th>num_sold</th>\n",
       "    </tr>\n",
       "  </thead>\n",
       "  <tbody>\n",
       "    <tr>\n",
       "      <th>0</th>\n",
       "      <td>0</td>\n",
       "      <td>0</td>\n",
       "      <td>1</td>\n",
       "      <td>0</td>\n",
       "      <td>63.0</td>\n",
       "    </tr>\n",
       "    <tr>\n",
       "      <th>1</th>\n",
       "      <td>1</td>\n",
       "      <td>0</td>\n",
       "      <td>1</td>\n",
       "      <td>1</td>\n",
       "      <td>66.0</td>\n",
       "    </tr>\n",
       "    <tr>\n",
       "      <th>2</th>\n",
       "      <td>2</td>\n",
       "      <td>0</td>\n",
       "      <td>1</td>\n",
       "      <td>2</td>\n",
       "      <td>9.0</td>\n",
       "    </tr>\n",
       "    <tr>\n",
       "      <th>3</th>\n",
       "      <td>3</td>\n",
       "      <td>0</td>\n",
       "      <td>1</td>\n",
       "      <td>3</td>\n",
       "      <td>59.0</td>\n",
       "    </tr>\n",
       "    <tr>\n",
       "      <th>4</th>\n",
       "      <td>4</td>\n",
       "      <td>0</td>\n",
       "      <td>1</td>\n",
       "      <td>4</td>\n",
       "      <td>49.0</td>\n",
       "    </tr>\n",
       "  </tbody>\n",
       "</table>\n",
       "</div>"
      ],
      "text/plain": [
       "   id  country  store  product  num_sold\n",
       "0   0        0      1        0      63.0\n",
       "1   1        0      1        1      66.0\n",
       "2   2        0      1        2       9.0\n",
       "3   3        0      1        3      59.0\n",
       "4   4        0      1        4      49.0"
      ]
     },
     "execution_count": 8,
     "metadata": {},
     "output_type": "execute_result"
    }
   ],
   "source": [
    "train.head()"
   ]
  },
  {
   "cell_type": "code",
   "execution_count": 9,
   "id": "1f9ed3cf",
   "metadata": {
    "execution": {
     "iopub.execute_input": "2024-04-08T07:22:04.807142Z",
     "iopub.status.busy": "2024-04-08T07:22:04.804775Z",
     "iopub.status.idle": "2024-04-08T07:22:04.818124Z",
     "shell.execute_reply": "2024-04-08T07:22:04.816813Z"
    },
    "papermill": {
     "duration": 0.024157,
     "end_time": "2024-04-08T07:22:04.820812",
     "exception": false,
     "start_time": "2024-04-08T07:22:04.796655",
     "status": "completed"
    },
    "tags": []
   },
   "outputs": [
    {
     "data": {
      "text/html": [
       "<div>\n",
       "<style scoped>\n",
       "    .dataframe tbody tr th:only-of-type {\n",
       "        vertical-align: middle;\n",
       "    }\n",
       "\n",
       "    .dataframe tbody tr th {\n",
       "        vertical-align: top;\n",
       "    }\n",
       "\n",
       "    .dataframe thead th {\n",
       "        text-align: right;\n",
       "    }\n",
       "</style>\n",
       "<table border=\"1\" class=\"dataframe\">\n",
       "  <thead>\n",
       "    <tr style=\"text-align: right;\">\n",
       "      <th></th>\n",
       "      <th>id</th>\n",
       "      <th>country</th>\n",
       "      <th>store</th>\n",
       "      <th>product</th>\n",
       "    </tr>\n",
       "  </thead>\n",
       "  <tbody>\n",
       "    <tr>\n",
       "      <th>136950</th>\n",
       "      <td>136950</td>\n",
       "      <td>0</td>\n",
       "      <td>1</td>\n",
       "      <td>0</td>\n",
       "    </tr>\n",
       "    <tr>\n",
       "      <th>136951</th>\n",
       "      <td>136951</td>\n",
       "      <td>0</td>\n",
       "      <td>1</td>\n",
       "      <td>1</td>\n",
       "    </tr>\n",
       "    <tr>\n",
       "      <th>136952</th>\n",
       "      <td>136952</td>\n",
       "      <td>0</td>\n",
       "      <td>1</td>\n",
       "      <td>2</td>\n",
       "    </tr>\n",
       "    <tr>\n",
       "      <th>136953</th>\n",
       "      <td>136953</td>\n",
       "      <td>0</td>\n",
       "      <td>1</td>\n",
       "      <td>3</td>\n",
       "    </tr>\n",
       "    <tr>\n",
       "      <th>136954</th>\n",
       "      <td>136954</td>\n",
       "      <td>0</td>\n",
       "      <td>1</td>\n",
       "      <td>4</td>\n",
       "    </tr>\n",
       "  </tbody>\n",
       "</table>\n",
       "</div>"
      ],
      "text/plain": [
       "            id  country  store  product\n",
       "136950  136950        0      1        0\n",
       "136951  136951        0      1        1\n",
       "136952  136952        0      1        2\n",
       "136953  136953        0      1        3\n",
       "136954  136954        0      1        4"
      ]
     },
     "execution_count": 9,
     "metadata": {},
     "output_type": "execute_result"
    }
   ],
   "source": [
    "test.head()"
   ]
  },
  {
   "cell_type": "code",
   "execution_count": 10,
   "id": "286e9aca",
   "metadata": {
    "execution": {
     "iopub.execute_input": "2024-04-08T07:22:04.838933Z",
     "iopub.status.busy": "2024-04-08T07:22:04.838544Z",
     "iopub.status.idle": "2024-04-08T07:22:49.102788Z",
     "shell.execute_reply": "2024-04-08T07:22:49.101494Z"
    },
    "papermill": {
     "duration": 44.290951,
     "end_time": "2024-04-08T07:22:49.120113",
     "exception": false,
     "start_time": "2024-04-08T07:22:04.829162",
     "status": "completed"
    },
    "tags": []
   },
   "outputs": [
    {
     "name": "stdout",
     "output_type": "stream",
     "text": [
      "2.4731599364612518e-20\n"
     ]
    }
   ],
   "source": [
    "# Durağanlık testine göre p_value 0.05'den büyükse durağan değildir.\n",
    "\n",
    "from statsmodels.tsa.stattools import adfuller\n",
    "adf_test = adfuller(train[\"num_sold\"])\n",
    "\n",
    "#print(adf_test)\n",
    "p_value = adf_test[1]\n",
    "print(p_value)"
   ]
  },
  {
   "cell_type": "code",
   "execution_count": 11,
   "id": "da4fcd12",
   "metadata": {
    "execution": {
     "iopub.execute_input": "2024-04-08T07:22:49.148039Z",
     "iopub.status.busy": "2024-04-08T07:22:49.147176Z",
     "iopub.status.idle": "2024-04-08T07:22:49.156915Z",
     "shell.execute_reply": "2024-04-08T07:22:49.155714Z"
    },
    "papermill": {
     "duration": 0.029465,
     "end_time": "2024-04-08T07:22:49.161586",
     "exception": false,
     "start_time": "2024-04-08T07:22:49.132121",
     "status": "completed"
    },
    "tags": []
   },
   "outputs": [],
   "source": [
    "# train veri setinin bölümü\n",
    "\n",
    "X_train, X_test = train[:-27375], train[-27375:]"
   ]
  },
  {
   "cell_type": "code",
   "execution_count": 12,
   "id": "d6b0f9f2",
   "metadata": {
    "execution": {
     "iopub.execute_input": "2024-04-08T07:22:49.187771Z",
     "iopub.status.busy": "2024-04-08T07:22:49.187212Z",
     "iopub.status.idle": "2024-04-08T07:22:49.200764Z",
     "shell.execute_reply": "2024-04-08T07:22:49.199348Z"
    },
    "papermill": {
     "duration": 0.0313,
     "end_time": "2024-04-08T07:22:49.204620",
     "exception": false,
     "start_time": "2024-04-08T07:22:49.173320",
     "status": "completed"
    },
    "tags": []
   },
   "outputs": [],
   "source": [
    "y_train = X_train['num_sold']\n",
    "X_train = X_train.drop(['num_sold'], axis=1)"
   ]
  },
  {
   "cell_type": "code",
   "execution_count": 13,
   "id": "114d6209",
   "metadata": {
    "execution": {
     "iopub.execute_input": "2024-04-08T07:22:49.221824Z",
     "iopub.status.busy": "2024-04-08T07:22:49.221461Z",
     "iopub.status.idle": "2024-04-08T07:22:49.227849Z",
     "shell.execute_reply": "2024-04-08T07:22:49.226921Z"
    },
    "papermill": {
     "duration": 0.017689,
     "end_time": "2024-04-08T07:22:49.230284",
     "exception": false,
     "start_time": "2024-04-08T07:22:49.212595",
     "status": "completed"
    },
    "tags": []
   },
   "outputs": [],
   "source": [
    "y_test = X_test['num_sold']\n",
    "X_test = X_test.drop(['num_sold'], axis=1)"
   ]
  },
  {
   "cell_type": "code",
   "execution_count": 14,
   "id": "7d826204",
   "metadata": {
    "execution": {
     "iopub.execute_input": "2024-04-08T07:22:49.246536Z",
     "iopub.status.busy": "2024-04-08T07:22:49.245808Z",
     "iopub.status.idle": "2024-04-08T07:23:04.382837Z",
     "shell.execute_reply": "2024-04-08T07:23:04.381261Z"
    },
    "papermill": {
     "duration": 15.147787,
     "end_time": "2024-04-08T07:23:04.385163",
     "exception": false,
     "start_time": "2024-04-08T07:22:49.237376",
     "status": "completed"
    },
    "tags": []
   },
   "outputs": [
    {
     "name": "stdout",
     "output_type": "stream",
     "text": [
      "Collecting pmdarima\r\n",
      "  Downloading pmdarima-2.0.4-cp310-cp310-manylinux_2_17_x86_64.manylinux2014_x86_64.manylinux_2_28_x86_64.whl.metadata (7.8 kB)\r\n",
      "Requirement already satisfied: joblib>=0.11 in /opt/conda/lib/python3.10/site-packages (from pmdarima) (1.3.2)\r\n",
      "Requirement already satisfied: Cython!=0.29.18,!=0.29.31,>=0.29 in /opt/conda/lib/python3.10/site-packages (from pmdarima) (3.0.8)\r\n",
      "Requirement already satisfied: numpy>=1.21.2 in /opt/conda/lib/python3.10/site-packages (from pmdarima) (1.26.4)\r\n",
      "Requirement already satisfied: pandas>=0.19 in /opt/conda/lib/python3.10/site-packages (from pmdarima) (2.2.1)\r\n",
      "Requirement already satisfied: scikit-learn>=0.22 in /opt/conda/lib/python3.10/site-packages (from pmdarima) (1.2.2)\r\n",
      "Requirement already satisfied: scipy>=1.3.2 in /opt/conda/lib/python3.10/site-packages (from pmdarima) (1.11.4)\r\n",
      "Requirement already satisfied: statsmodels>=0.13.2 in /opt/conda/lib/python3.10/site-packages (from pmdarima) (0.14.1)\r\n",
      "Requirement already satisfied: urllib3 in /opt/conda/lib/python3.10/site-packages (from pmdarima) (1.26.18)\r\n",
      "Requirement already satisfied: setuptools!=50.0.0,>=38.6.0 in /opt/conda/lib/python3.10/site-packages (from pmdarima) (69.0.3)\r\n",
      "Requirement already satisfied: packaging>=17.1 in /opt/conda/lib/python3.10/site-packages (from pmdarima) (21.3)\r\n",
      "Requirement already satisfied: pyparsing!=3.0.5,>=2.0.2 in /opt/conda/lib/python3.10/site-packages (from packaging>=17.1->pmdarima) (3.1.1)\r\n",
      "Requirement already satisfied: python-dateutil>=2.8.2 in /opt/conda/lib/python3.10/site-packages (from pandas>=0.19->pmdarima) (2.9.0.post0)\r\n",
      "Requirement already satisfied: pytz>=2020.1 in /opt/conda/lib/python3.10/site-packages (from pandas>=0.19->pmdarima) (2023.3.post1)\r\n",
      "Requirement already satisfied: tzdata>=2022.7 in /opt/conda/lib/python3.10/site-packages (from pandas>=0.19->pmdarima) (2023.4)\r\n",
      "Requirement already satisfied: threadpoolctl>=2.0.0 in /opt/conda/lib/python3.10/site-packages (from scikit-learn>=0.22->pmdarima) (3.2.0)\r\n",
      "Requirement already satisfied: patsy>=0.5.4 in /opt/conda/lib/python3.10/site-packages (from statsmodels>=0.13.2->pmdarima) (0.5.6)\r\n",
      "Requirement already satisfied: six in /opt/conda/lib/python3.10/site-packages (from patsy>=0.5.4->statsmodels>=0.13.2->pmdarima) (1.16.0)\r\n",
      "Downloading pmdarima-2.0.4-cp310-cp310-manylinux_2_17_x86_64.manylinux2014_x86_64.manylinux_2_28_x86_64.whl (2.1 MB)\r\n",
      "\u001b[2K   \u001b[90m━━━━━━━━━━━━━━━━━━━━━━━━━━━━━━━━━━━━━━━━\u001b[0m \u001b[32m2.1/2.1 MB\u001b[0m \u001b[31m19.1 MB/s\u001b[0m eta \u001b[36m0:00:00\u001b[0m\r\n",
      "\u001b[?25hInstalling collected packages: pmdarima\r\n",
      "Successfully installed pmdarima-2.0.4\r\n",
      "Note: you may need to restart the kernel to use updated packages.\n"
     ]
    }
   ],
   "source": [
    "pip install pmdarima"
   ]
  },
  {
   "cell_type": "code",
   "execution_count": 15,
   "id": "3070912d",
   "metadata": {
    "execution": {
     "iopub.execute_input": "2024-04-08T07:23:04.403991Z",
     "iopub.status.busy": "2024-04-08T07:23:04.403586Z",
     "iopub.status.idle": "2024-04-08T07:26:27.151189Z",
     "shell.execute_reply": "2024-04-08T07:26:27.149713Z"
    },
    "papermill": {
     "duration": 202.760994,
     "end_time": "2024-04-08T07:26:27.154442",
     "exception": false,
     "start_time": "2024-04-08T07:23:04.393448",
     "status": "completed"
    },
    "tags": []
   },
   "outputs": [],
   "source": [
    "# LightGBM kütüphanesini kullanarak bir regresyon modeli eğitme\n",
    "\n",
    "import lightgbm as lgb\n",
    "feature_names = X_train.columns.tolist()\n",
    "\n",
    "params = {\n",
    "    'objective': 'mse',\n",
    "    'metric': 'rmse',\n",
    "    'num_leaves': 255,\n",
    "    'learning_rate': 0.005,\n",
    "    'feature_fraction': 0.7, \n",
    "    'bagging_fraction': 0.7,\n",
    "    'bagging_freq': 5, \n",
    "    'seed': 1,\n",
    "    'verbose': -1,\n",
    "    'force_row_wise' : True\n",
    "}  \n",
    "\n",
    "lgb_train = lgb.Dataset(X_train[feature_names], y_train)\n",
    "lgb_eval  = lgb.Dataset(X_test[feature_names], y_test, reference=lgb_train)\n",
    "\n",
    "evals_result = {}\n",
    "gbm = lgb.train(\n",
    "        params, \n",
    "        lgb_train,\n",
    "        num_boost_round = 4000,\n",
    "        valid_sets = (lgb_train, lgb_eval))"
   ]
  },
  {
   "cell_type": "code",
   "execution_count": 16,
   "id": "14f1a057",
   "metadata": {
    "execution": {
     "iopub.execute_input": "2024-04-08T07:26:27.174130Z",
     "iopub.status.busy": "2024-04-08T07:26:27.173457Z",
     "iopub.status.idle": "2024-04-08T07:26:33.977498Z",
     "shell.execute_reply": "2024-04-08T07:26:33.976520Z"
    },
    "papermill": {
     "duration": 6.816502,
     "end_time": "2024-04-08T07:26:33.980048",
     "exception": false,
     "start_time": "2024-04-08T07:26:27.163546",
     "status": "completed"
    },
    "tags": []
   },
   "outputs": [],
   "source": [
    "# Eğitilmiş LightGBM modelini kullanarak X_test veri kümesindeki örnekler için tahminler yapma\n",
    "preds = gbm.predict(X_test)"
   ]
  },
  {
   "cell_type": "code",
   "execution_count": 17,
   "id": "80121b38",
   "metadata": {
    "execution": {
     "iopub.execute_input": "2024-04-08T07:26:33.999155Z",
     "iopub.status.busy": "2024-04-08T07:26:33.998108Z",
     "iopub.status.idle": "2024-04-08T07:26:34.005460Z",
     "shell.execute_reply": "2024-04-08T07:26:34.004313Z"
    },
    "papermill": {
     "duration": 0.019454,
     "end_time": "2024-04-08T07:26:34.008067",
     "exception": false,
     "start_time": "2024-04-08T07:26:33.988613",
     "status": "completed"
    },
    "tags": []
   },
   "outputs": [
    {
     "data": {
      "text/plain": [
       "array([ 25.4829528 ,  25.55728356,  13.39080053, ...,  95.98286929,\n",
       "       525.8986537 , 422.72636724])"
      ]
     },
     "execution_count": 17,
     "metadata": {},
     "output_type": "execute_result"
    }
   ],
   "source": [
    "preds"
   ]
  },
  {
   "cell_type": "code",
   "execution_count": 18,
   "id": "761e0020",
   "metadata": {
    "execution": {
     "iopub.execute_input": "2024-04-08T07:26:34.027539Z",
     "iopub.status.busy": "2024-04-08T07:26:34.026788Z",
     "iopub.status.idle": "2024-04-08T07:26:34.036124Z",
     "shell.execute_reply": "2024-04-08T07:26:34.034860Z"
    },
    "papermill": {
     "duration": 0.02199,
     "end_time": "2024-04-08T07:26:34.038399",
     "exception": false,
     "start_time": "2024-04-08T07:26:34.016409",
     "status": "completed"
    },
    "tags": []
   },
   "outputs": [
    {
     "name": "stdout",
     "output_type": "stream",
     "text": [
      "SMAPE değeri: 28.68831287645276\n"
     ]
    }
   ],
   "source": [
    "def smape2(y_true, y_pred):\n",
    "    \"\"\"\n",
    "    Symmetric Mean Absolute Percentage Error (SMAPE) hesaplar.\n",
    "    \n",
    "    Parametreler:\n",
    "    y_true : array_like\n",
    "        Gerçek değerlerin dizisi.\n",
    "    y_pred : array_like\n",
    "        Tahmin edilen değerlerin dizisi.\n",
    "        \n",
    "    Dönüş:\n",
    "    float\n",
    "        SMAPE değeri.\n",
    "    \"\"\"\n",
    "    import numpy as np\n",
    "    \n",
    "    # Gerçek ve tahmin edilen değerleri numpy dizisine dönüştürme\n",
    "    y_true, y_pred = np.array(y_true), np.array(y_pred)\n",
    "    \n",
    "    # Sıfır bölme hatasını önlemek için kontrol\n",
    "    if np.any(y_true == 0):\n",
    "        raise ValueError(\"Gerçek değerlerde sıfır olamaz.\")\n",
    "    \n",
    "    # SMAPE hesaplama\n",
    "    numerator = np.abs(y_pred - y_true)\n",
    "    denominator = (np.abs(y_true) + np.abs(y_pred)) / 2\n",
    "    smape = np.mean(numerator / denominator) * 100\n",
    "    \n",
    "    return smape\n",
    "\n",
    "smape_degeri = smape2(y_test, preds)\n",
    "print(\"SMAPE değeri:\", smape_degeri)\n"
   ]
  },
  {
   "cell_type": "code",
   "execution_count": 19,
   "id": "f4d3c154",
   "metadata": {
    "execution": {
     "iopub.execute_input": "2024-04-08T07:26:34.057415Z",
     "iopub.status.busy": "2024-04-08T07:26:34.056665Z",
     "iopub.status.idle": "2024-04-08T07:26:34.082538Z",
     "shell.execute_reply": "2024-04-08T07:26:34.081603Z"
    },
    "papermill": {
     "duration": 0.038225,
     "end_time": "2024-04-08T07:26:34.085009",
     "exception": false,
     "start_time": "2024-04-08T07:26:34.046784",
     "status": "completed"
    },
    "tags": []
   },
   "outputs": [
    {
     "data": {
      "text/html": [
       "<div>\n",
       "<style scoped>\n",
       "    .dataframe tbody tr th:only-of-type {\n",
       "        vertical-align: middle;\n",
       "    }\n",
       "\n",
       "    .dataframe tbody tr th {\n",
       "        vertical-align: top;\n",
       "    }\n",
       "\n",
       "    .dataframe thead th {\n",
       "        text-align: right;\n",
       "    }\n",
       "</style>\n",
       "<table border=\"1\" class=\"dataframe\">\n",
       "  <thead>\n",
       "    <tr style=\"text-align: right;\">\n",
       "      <th></th>\n",
       "      <th>id</th>\n",
       "      <th>num_sold</th>\n",
       "    </tr>\n",
       "  </thead>\n",
       "  <tbody>\n",
       "    <tr>\n",
       "      <th>0</th>\n",
       "      <td>136950</td>\n",
       "      <td>100</td>\n",
       "    </tr>\n",
       "    <tr>\n",
       "      <th>1</th>\n",
       "      <td>136951</td>\n",
       "      <td>100</td>\n",
       "    </tr>\n",
       "    <tr>\n",
       "      <th>2</th>\n",
       "      <td>136952</td>\n",
       "      <td>100</td>\n",
       "    </tr>\n",
       "    <tr>\n",
       "      <th>3</th>\n",
       "      <td>136953</td>\n",
       "      <td>100</td>\n",
       "    </tr>\n",
       "    <tr>\n",
       "      <th>4</th>\n",
       "      <td>136954</td>\n",
       "      <td>100</td>\n",
       "    </tr>\n",
       "    <tr>\n",
       "      <th>...</th>\n",
       "      <td>...</td>\n",
       "      <td>...</td>\n",
       "    </tr>\n",
       "    <tr>\n",
       "      <th>27370</th>\n",
       "      <td>164320</td>\n",
       "      <td>100</td>\n",
       "    </tr>\n",
       "    <tr>\n",
       "      <th>27371</th>\n",
       "      <td>164321</td>\n",
       "      <td>100</td>\n",
       "    </tr>\n",
       "    <tr>\n",
       "      <th>27372</th>\n",
       "      <td>164322</td>\n",
       "      <td>100</td>\n",
       "    </tr>\n",
       "    <tr>\n",
       "      <th>27373</th>\n",
       "      <td>164323</td>\n",
       "      <td>100</td>\n",
       "    </tr>\n",
       "    <tr>\n",
       "      <th>27374</th>\n",
       "      <td>164324</td>\n",
       "      <td>100</td>\n",
       "    </tr>\n",
       "  </tbody>\n",
       "</table>\n",
       "<p>27375 rows × 2 columns</p>\n",
       "</div>"
      ],
      "text/plain": [
       "           id  num_sold\n",
       "0      136950       100\n",
       "1      136951       100\n",
       "2      136952       100\n",
       "3      136953       100\n",
       "4      136954       100\n",
       "...       ...       ...\n",
       "27370  164320       100\n",
       "27371  164321       100\n",
       "27372  164322       100\n",
       "27373  164323       100\n",
       "27374  164324       100\n",
       "\n",
       "[27375 rows x 2 columns]"
      ]
     },
     "execution_count": 19,
     "metadata": {},
     "output_type": "execute_result"
    }
   ],
   "source": [
    "import pandas as pd\n",
    "sample_submission = pd.read_csv(\"/kaggle/input/copy-of-forecasting-mini-course-sales/sample_submission.csv\")\n",
    "sample_submission"
   ]
  },
  {
   "cell_type": "code",
   "execution_count": 20,
   "id": "f4fcfe1f",
   "metadata": {
    "execution": {
     "iopub.execute_input": "2024-04-08T07:26:34.104675Z",
     "iopub.status.busy": "2024-04-08T07:26:34.103958Z",
     "iopub.status.idle": "2024-04-08T07:26:41.378461Z",
     "shell.execute_reply": "2024-04-08T07:26:41.377373Z"
    },
    "papermill": {
     "duration": 7.287526,
     "end_time": "2024-04-08T07:26:41.381603",
     "exception": false,
     "start_time": "2024-04-08T07:26:34.094077",
     "status": "completed"
    },
    "tags": []
   },
   "outputs": [],
   "source": [
    "preds = gbm.predict(test)"
   ]
  },
  {
   "cell_type": "code",
   "execution_count": 21,
   "id": "95fb03a0",
   "metadata": {
    "execution": {
     "iopub.execute_input": "2024-04-08T07:26:41.402994Z",
     "iopub.status.busy": "2024-04-08T07:26:41.402006Z",
     "iopub.status.idle": "2024-04-08T07:26:41.409942Z",
     "shell.execute_reply": "2024-04-08T07:26:41.408944Z"
    },
    "papermill": {
     "duration": 0.021339,
     "end_time": "2024-04-08T07:26:41.412171",
     "exception": false,
     "start_time": "2024-04-08T07:26:41.390832",
     "status": "completed"
    },
    "tags": []
   },
   "outputs": [
    {
     "data": {
      "text/plain": [
       "array([ 25.4829528 ,  25.55728356,  13.39080053, ...,  95.98286929,\n",
       "       525.8986537 , 422.72636724])"
      ]
     },
     "execution_count": 21,
     "metadata": {},
     "output_type": "execute_result"
    }
   ],
   "source": [
    "preds"
   ]
  },
  {
   "cell_type": "code",
   "execution_count": 22,
   "id": "2c809de9",
   "metadata": {
    "execution": {
     "iopub.execute_input": "2024-04-08T07:26:41.432278Z",
     "iopub.status.busy": "2024-04-08T07:26:41.431464Z",
     "iopub.status.idle": "2024-04-08T07:26:41.501712Z",
     "shell.execute_reply": "2024-04-08T07:26:41.500489Z"
    },
    "papermill": {
     "duration": 0.083395,
     "end_time": "2024-04-08T07:26:41.504606",
     "exception": false,
     "start_time": "2024-04-08T07:26:41.421211",
     "status": "completed"
    },
    "tags": []
   },
   "outputs": [],
   "source": [
    "# Create a DataFrame containing predictions\n",
    "sample_submission['num_sold'] = preds\n",
    "\n",
    "# Convert to the format required by the submission file (for example, CSV format)\n",
    "sample_submission.to_csv('submission.csv', index=False)"
   ]
  },
  {
   "cell_type": "code",
   "execution_count": 23,
   "id": "d8235b98",
   "metadata": {
    "execution": {
     "iopub.execute_input": "2024-04-08T07:26:41.524516Z",
     "iopub.status.busy": "2024-04-08T07:26:41.524070Z",
     "iopub.status.idle": "2024-04-08T07:26:41.537041Z",
     "shell.execute_reply": "2024-04-08T07:26:41.535711Z"
    },
    "papermill": {
     "duration": 0.02573,
     "end_time": "2024-04-08T07:26:41.539491",
     "exception": false,
     "start_time": "2024-04-08T07:26:41.513761",
     "status": "completed"
    },
    "tags": []
   },
   "outputs": [
    {
     "data": {
      "text/html": [
       "<div>\n",
       "<style scoped>\n",
       "    .dataframe tbody tr th:only-of-type {\n",
       "        vertical-align: middle;\n",
       "    }\n",
       "\n",
       "    .dataframe tbody tr th {\n",
       "        vertical-align: top;\n",
       "    }\n",
       "\n",
       "    .dataframe thead th {\n",
       "        text-align: right;\n",
       "    }\n",
       "</style>\n",
       "<table border=\"1\" class=\"dataframe\">\n",
       "  <thead>\n",
       "    <tr style=\"text-align: right;\">\n",
       "      <th></th>\n",
       "      <th>id</th>\n",
       "      <th>num_sold</th>\n",
       "    </tr>\n",
       "  </thead>\n",
       "  <tbody>\n",
       "    <tr>\n",
       "      <th>0</th>\n",
       "      <td>136950</td>\n",
       "      <td>25.482953</td>\n",
       "    </tr>\n",
       "    <tr>\n",
       "      <th>1</th>\n",
       "      <td>136951</td>\n",
       "      <td>25.557284</td>\n",
       "    </tr>\n",
       "    <tr>\n",
       "      <th>2</th>\n",
       "      <td>136952</td>\n",
       "      <td>13.390801</td>\n",
       "    </tr>\n",
       "    <tr>\n",
       "      <th>3</th>\n",
       "      <td>136953</td>\n",
       "      <td>23.521718</td>\n",
       "    </tr>\n",
       "    <tr>\n",
       "      <th>4</th>\n",
       "      <td>136954</td>\n",
       "      <td>22.532361</td>\n",
       "    </tr>\n",
       "    <tr>\n",
       "      <th>...</th>\n",
       "      <td>...</td>\n",
       "      <td>...</td>\n",
       "    </tr>\n",
       "    <tr>\n",
       "      <th>27370</th>\n",
       "      <td>164320</td>\n",
       "      <td>572.160920</td>\n",
       "    </tr>\n",
       "    <tr>\n",
       "      <th>27371</th>\n",
       "      <td>164321</td>\n",
       "      <td>559.765850</td>\n",
       "    </tr>\n",
       "    <tr>\n",
       "      <th>27372</th>\n",
       "      <td>164322</td>\n",
       "      <td>95.982869</td>\n",
       "    </tr>\n",
       "    <tr>\n",
       "      <th>27373</th>\n",
       "      <td>164323</td>\n",
       "      <td>525.898654</td>\n",
       "    </tr>\n",
       "    <tr>\n",
       "      <th>27374</th>\n",
       "      <td>164324</td>\n",
       "      <td>422.726367</td>\n",
       "    </tr>\n",
       "  </tbody>\n",
       "</table>\n",
       "<p>27375 rows × 2 columns</p>\n",
       "</div>"
      ],
      "text/plain": [
       "           id    num_sold\n",
       "0      136950   25.482953\n",
       "1      136951   25.557284\n",
       "2      136952   13.390801\n",
       "3      136953   23.521718\n",
       "4      136954   22.532361\n",
       "...       ...         ...\n",
       "27370  164320  572.160920\n",
       "27371  164321  559.765850\n",
       "27372  164322   95.982869\n",
       "27373  164323  525.898654\n",
       "27374  164324  422.726367\n",
       "\n",
       "[27375 rows x 2 columns]"
      ]
     },
     "execution_count": 23,
     "metadata": {},
     "output_type": "execute_result"
    }
   ],
   "source": [
    "sample_submission"
   ]
  }
 ],
 "metadata": {
  "kaggle": {
   "accelerator": "none",
   "dataSources": [
    {
     "databundleVersionId": 7913550,
     "sourceId": 72259,
     "sourceType": "competition"
    }
   ],
   "dockerImageVersionId": 30673,
   "isGpuEnabled": false,
   "isInternetEnabled": true,
   "language": "python",
   "sourceType": "notebook"
  },
  "kernelspec": {
   "display_name": "Python 3",
   "language": "python",
   "name": "python3"
  },
  "language_info": {
   "codemirror_mode": {
    "name": "ipython",
    "version": 3
   },
   "file_extension": ".py",
   "mimetype": "text/x-python",
   "name": "python",
   "nbconvert_exporter": "python",
   "pygments_lexer": "ipython3",
   "version": "3.10.13"
  },
  "papermill": {
   "default_parameters": {},
   "duration": 283.914306,
   "end_time": "2024-04-08T07:26:42.372346",
   "environment_variables": {},
   "exception": null,
   "input_path": "__notebook__.ipynb",
   "output_path": "__notebook__.ipynb",
   "parameters": {},
   "start_time": "2024-04-08T07:21:58.458040",
   "version": "2.5.0"
  }
 },
 "nbformat": 4,
 "nbformat_minor": 5
}
